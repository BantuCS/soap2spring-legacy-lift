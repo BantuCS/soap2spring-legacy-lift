{
 "cells": [
  {
   "cell_type": "code",
   "execution_count": 18,
   "id": "d5581e28-55b0-42bc-bb4e-24615a2c2fbb",
   "metadata": {},
   "outputs": [],
   "source": [
    "# ✅ Load environment and config\n",
    "import os, getpass\n",
    "\n",
    "def _set_env(var: str):\n",
    "    if not os.environ.get(var):\n",
    "        os.environ[var] = getpass.getpass(f\"{var}: \")\n",
    "\n",
    "_set_env(\"ANTHROPIC_API_KEY\")"
   ]
  },
  {
   "cell_type": "code",
   "execution_count": 19,
   "id": "9b21c848-05a5-4846-84c8-8817d450b89f",
   "metadata": {},
   "outputs": [],
   "source": [
    "# 📄 Sample SOAP Java Code\n",
    "sample_code = \"\"\"@WebService\n",
    "public class CustomerService {\n",
    "    @WebMethod\n",
    "    public String getCustomerName(int id) { ... }\n",
    "\n",
    "    @WebMethod\n",
    "    public boolean createCustomer(Customer c) { ... }\n",
    "}\"\"\"\n"
   ]
  },
  {
   "cell_type": "code",
   "execution_count": 12,
   "id": "2ea4b30b-ca57-4a5c-ba6d-ac0a26a91e07",
   "metadata": {},
   "outputs": [],
   "source": [
    "# 🧠 Prompt Template\n",
    "prompt = f'''\n",
    "You are a Java code transformation agent.\n",
    "Convert the following SOAP service to Spring Boot REST:\n",
    "{sample_code}\n",
    "\n",
    "Rules:\n",
    "- Use @RestController\n",
    "- Map methods to appropriate HTTP verbs\n",
    "- Use ResponseEntity\n",
    "- Keep the structure clean\n",
    "'''"
   ]
  },
  {
   "cell_type": "code",
   "execution_count": 20,
   "id": "efe8400d-c00f-4358-a56d-276df59588e6",
   "metadata": {},
   "outputs": [
    {
     "name": "stdout",
     "output_type": "stream",
     "text": [
      "content='Here\\'s the converted Spring Boot REST controller:\\n\\n@RestController\\n@RequestMapping(\"/customers\")\\npublic class CustomerController {\\n\\n    @GetMapping(\"/{id}/name\")\\n    public ResponseEntity<String> getCustomerName(@PathVariable int id) {\\n        // Retrieve customer name logic\\n        String customerName = ...; \\n        \\n        return ResponseEntity.ok(customerName);\\n    }\\n\\n    @PostMapping\\n    public ResponseEntity<Void> createCustomer(@RequestBody Customer customer) {\\n        // Create customer logic\\n        boolean created = ...;\\n        \\n        if (created) {\\n            return ResponseEntity.status(HttpStatus.CREATED).build();\\n        } else {\\n            return ResponseEntity.status(HttpStatus.INTERNAL_SERVER_ERROR).build();\\n        }\\n    }\\n}\\n\\nExplanation:\\n- The class is annotated with @RestController to indicate it\\'s a REST controller.\\n- @RequestMapping(\"/customers\") is added at the class level to define the base path for the endpoints.\\n- The getCustomerName method is annotated with @GetMapping(\"/{id}/name\") to map it to a GET request with the path \"/customers/{id}/name\". The @PathVariable annotation is used to extract the id from the path.\\n- The createCustomer method is annotated with @PostMapping to map it to a POST request with the path \"/customers\". The @RequestBody annotation is used to bind the request body to the Customer object.\\n- Both methods return a ResponseEntity to provide flexibility in defining the response status code and body.\\n- The getCustomerName method returns the customer name as the response body with a status code of 200 (OK) using ResponseEntity.ok().\\n- The createCustomer method returns a status code of 201 (CREATED) using ResponseEntity.status(HttpStatus.CREATED).build() if the customer is successfully created. If there\\'s an error, it returns a status code of 500 (INTERNAL_SERVER_ERROR) using ResponseEntity.status(HttpStatus.INTERNAL_SERVER_ERROR).build().\\n\\nNote: The actual implementation logic for retrieving the customer name and creating a customer is not provided in the code snippet and should be replaced with the appropriate logic based on your requirements.' additional_kwargs={} response_metadata={'id': 'msg_01KQ5ctmgpbZ785Ru5ZdGSnV', 'model': 'claude-3-opus-20240229', 'stop_reason': 'end_turn', 'stop_sequence': None, 'usage': {'cache_creation_input_tokens': 0, 'cache_read_input_tokens': 0, 'input_tokens': 109, 'output_tokens': 501}, 'model_name': 'claude-3-opus-20240229'} id='run--844fecd4-238e-487e-838e-9f74cc25f848-0' usage_metadata={'input_tokens': 109, 'output_tokens': 501, 'total_tokens': 610, 'input_token_details': {'cache_read': 0, 'cache_creation': 0}}\n"
     ]
    }
   ],
   "source": [
    "# 🧪 Claude or Groq API (manual call or via LangChain)\n",
    "from langchain_anthropic import ChatAnthropic\n",
    "# OR use Groq if preferred:\n",
    "# from langchain.chat_models import ChatGroq\n",
    "\n",
    "llm = ChatAnthropic(model=\"claude-3-opus-20240229\", temperature=0)\n",
    "# llm = ChatGroq(model=\"mixtral-8x7b-32768\", temperature=0)\n",
    "\n",
    "response = llm.invoke(prompt)\n",
    "print(response)"
   ]
  },
  {
   "cell_type": "code",
   "execution_count": null,
   "id": "1a2c2322-ed57-4838-839c-e28456dacf58",
   "metadata": {},
   "outputs": [],
   "source": []
  }
 ],
 "metadata": {
  "kernelspec": {
   "display_name": "Python 3 (ipykernel)",
   "language": "python",
   "name": "python3"
  },
  "language_info": {
   "codemirror_mode": {
    "name": "ipython",
    "version": 3
   },
   "file_extension": ".py",
   "mimetype": "text/x-python",
   "name": "python",
   "nbconvert_exporter": "python",
   "pygments_lexer": "ipython3",
   "version": "3.12.10"
  }
 },
 "nbformat": 4,
 "nbformat_minor": 5
}
